{
  "nbformat": 4,
  "nbformat_minor": 0,
  "metadata": {
    "colab": {
      "name": "Tax with HRA.ipynb",
      "provenance": []
    },
    "kernelspec": {
      "name": "python3",
      "display_name": "Python 3"
    },
    "language_info": {
      "name": "python"
    }
  },
  "cells": [
    {
      "cell_type": "code",
      "source": [
        "A=int(input(\"ENTER YOUR BASIC SALARY \"))\n",
        "B=int(input(\"ENTER YOUR HOUSE RENT ALLOWANCES \"))\n",
        "C=int(input(\"ENTER YOUR HOUSE ALLOWANCES \"))\n",
        "if A<250000:\n",
        "  print(\"YOU ARE TAXABLE\")\n",
        "if A>250000 and A<500000:\n",
        "  print(\"YOUR TAX AMT IS \", (250000*5/100-A)\n",
        "if A>500000 and A<750000:\n",
        "  print(\"YOUR TAX AMT IS \", (500000*10/100-A)+(250000*5/100))\n",
        "if A>750000 and A<1000000:\n",
        "  print(\"YOUR TAX AMT IS \", (750000*20/100-A)+(250000*10/100)+(250000*5/100))\n",
        "if A>1000000:\n",
        "  print(\"YOUR TAX AMT IS \", (1000000*30/100-A)+(250000*20/100)+(250000*10/100)+(250000*5/100))\n",
        "\n",
        "if b>a:\n",
        "  if B<250000:\n",
        "    print(\"YOU ARE TAXABLE\")\n",
        "  if B>250000 and B<500000:\n",
        "    print(\"YOUR TAX AMT IS \", (250000*5/100-B)\n",
        "  if B>500000 and B<750000:\n",
        "    print(\"YOUR TAX AMT IS \", (500000*10/100-B)+(250000*5/100))\n",
        "  if B>750000 and B<1000000:\n",
        "    print(\"YOUR TAX AMT IS \", (750000*20/100-B)+(250000*10/100)+(250000*5/100))\n",
        "  if B>1000000:\n",
        "    print(\"YOUR TAX AMT IS \", (1000000*30/100-B)+(250000*20/100)+(250000*10/100)+(250000*5/100))\n",
        "  \n",
        "if b<a:\n"
      ],
      "metadata": {
        "id": "yVIBo6xFSWpo"
      },
      "execution_count": null,
      "outputs": []
    }
  ]
}