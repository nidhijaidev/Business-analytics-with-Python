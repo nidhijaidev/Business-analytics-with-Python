{
  "nbformat": 4,
  "nbformat_minor": 0,
  "metadata": {
    "colab": {
      "name": "Python tax.ipynb",
      "provenance": []
    },
    "kernelspec": {
      "name": "python3",
      "display_name": "Python 3"
    },
    "language_info": {
      "name": "python"
    }
  },
  "cells": [
    {
      "cell_type": "code",
      "execution_count": 1,
      "metadata": {
        "id": "kLFhuF-gNaIu"
      },
      "outputs": [],
      "source": [
        "x=\"HEYO NIDHI\""
      ]
    },
    {
      "cell_type": "code",
      "source": [
        "print(x)"
      ],
      "metadata": {
        "colab": {
          "base_uri": "https://localhost:8080/",
          "height": 0
        },
        "id": "V0GLoMArN2qw",
        "outputId": "897cdd63-cd7c-4a01-fc51-d84135e9168e"
      },
      "execution_count": 2,
      "outputs": [
        {
          "output_type": "stream",
          "name": "stdout",
          "text": [
            "HEYO NIDHI\n"
          ]
        }
      ]
    },
    {
      "cell_type": "code",
      "source": [
        "x=input(\"ENTER A NUMBER \")"
      ],
      "metadata": {
        "colab": {
          "base_uri": "https://localhost:8080/",
          "height": 0
        },
        "id": "DpcLqLpXN44n",
        "outputId": "59cc7d25-6fa9-4d4d-9f46-f9231371ba26"
      },
      "execution_count": 3,
      "outputs": [
        {
          "name": "stdout",
          "output_type": "stream",
          "text": [
            "ENTER A NUMBER 18\n"
          ]
        }
      ]
    },
    {
      "cell_type": "code",
      "source": [
        "y=input(\"ENTER A NUMBER \")"
      ],
      "metadata": {
        "colab": {
          "base_uri": "https://localhost:8080/",
          "height": 0
        },
        "id": "D4C1zVSLPIoD",
        "outputId": "4271a395-d80f-42f4-e8d4-7a6471a2a9c9"
      },
      "execution_count": 4,
      "outputs": [
        {
          "name": "stdout",
          "output_type": "stream",
          "text": [
            "ENTER A NUMBER 10\n"
          ]
        }
      ]
    },
    {
      "cell_type": "code",
      "source": [
        "x+y"
      ],
      "metadata": {
        "colab": {
          "base_uri": "https://localhost:8080/",
          "height": 35
        },
        "id": "Z5d2ml5NP_FC",
        "outputId": "adcd31a9-ffa7-47bd-faf7-344b9cb6187f"
      },
      "execution_count": 6,
      "outputs": [
        {
          "output_type": "execute_result",
          "data": {
            "text/plain": [
              "'1810'"
            ],
            "application/vnd.google.colaboratory.intrinsic+json": {
              "type": "string"
            }
          },
          "metadata": {},
          "execution_count": 6
        }
      ]
    },
    {
      "cell_type": "code",
      "source": [
        "int(x)+int(y)"
      ],
      "metadata": {
        "colab": {
          "base_uri": "https://localhost:8080/",
          "height": 0
        },
        "id": "sr5tVicrQgef",
        "outputId": "bba75adc-4bdf-4a5c-8991-e1f3595ae5b6"
      },
      "execution_count": 8,
      "outputs": [
        {
          "output_type": "execute_result",
          "data": {
            "text/plain": [
              "28"
            ]
          },
          "metadata": {},
          "execution_count": 8
        }
      ]
    },
    {
      "cell_type": "code",
      "source": [
        "int(x)-int(y)"
      ],
      "metadata": {
        "colab": {
          "base_uri": "https://localhost:8080/",
          "height": 0
        },
        "id": "puQPEL8CQvLN",
        "outputId": "9743bb0c-3ecf-41df-f444-5e4b5678ff41"
      },
      "execution_count": 9,
      "outputs": [
        {
          "output_type": "execute_result",
          "data": {
            "text/plain": [
              "8"
            ]
          },
          "metadata": {},
          "execution_count": 9
        }
      ]
    },
    {
      "cell_type": "code",
      "source": [
        "int(x)*int(y)"
      ],
      "metadata": {
        "colab": {
          "base_uri": "https://localhost:8080/",
          "height": 0
        },
        "id": "cnnVC5B7Q4aa",
        "outputId": "1154cb72-1510-4be6-9822-88f2ffc292e1"
      },
      "execution_count": 10,
      "outputs": [
        {
          "output_type": "execute_result",
          "data": {
            "text/plain": [
              "180"
            ]
          },
          "metadata": {},
          "execution_count": 10
        }
      ]
    },
    {
      "cell_type": "code",
      "source": [
        "int(x)/int(y)"
      ],
      "metadata": {
        "colab": {
          "base_uri": "https://localhost:8080/",
          "height": 0
        },
        "id": "tL1-sLIVROL5",
        "outputId": "0b49f217-1b25-4d98-a293-c0a62c9747e0"
      },
      "execution_count": 11,
      "outputs": [
        {
          "output_type": "execute_result",
          "data": {
            "text/plain": [
              "1.8"
            ]
          },
          "metadata": {},
          "execution_count": 11
        }
      ]
    },
    {
      "cell_type": "code",
      "source": [
        "type(x),type(y)"
      ],
      "metadata": {
        "colab": {
          "base_uri": "https://localhost:8080/",
          "height": 0
        },
        "id": "qZdETUM7RZ5x",
        "outputId": "09f4e2ec-eabe-4efd-cbe8-b55783d50b62"
      },
      "execution_count": 13,
      "outputs": [
        {
          "output_type": "execute_result",
          "data": {
            "text/plain": [
              "(str, str)"
            ]
          },
          "metadata": {},
          "execution_count": 13
        }
      ]
    },
    {
      "cell_type": "code",
      "source": [
        "x=int(input(\"ENTER THE FIRST NUMBER \"))"
      ],
      "metadata": {
        "colab": {
          "base_uri": "https://localhost:8080/",
          "height": 0
        },
        "id": "GRWvmN5lRcvQ",
        "outputId": "cb479b95-d5e8-4549-9cba-835e66251cf9"
      },
      "execution_count": 14,
      "outputs": [
        {
          "name": "stdout",
          "output_type": "stream",
          "text": [
            "ENTER THE FIRST NUMBER 12\n"
          ]
        }
      ]
    },
    {
      "cell_type": "code",
      "source": [
        "y=int(input(\"ENTER THE SECOND NUMBER \"))"
      ],
      "metadata": {
        "colab": {
          "base_uri": "https://localhost:8080/",
          "height": 0
        },
        "id": "cMrmqgucR6Gl",
        "outputId": "9a489721-b6cd-4b08-f1ec-c3fa9b507ea7"
      },
      "execution_count": 15,
      "outputs": [
        {
          "name": "stdout",
          "output_type": "stream",
          "text": [
            "ENTER THE SECOND NUMBER 10\n"
          ]
        }
      ]
    },
    {
      "cell_type": "code",
      "source": [
        "x+y"
      ],
      "metadata": {
        "colab": {
          "base_uri": "https://localhost:8080/",
          "height": 0
        },
        "id": "zIXFFD4oSJKs",
        "outputId": "b61c4a0e-d33c-4591-c828-ec7ed7fa3502"
      },
      "execution_count": 16,
      "outputs": [
        {
          "output_type": "execute_result",
          "data": {
            "text/plain": [
              "22"
            ]
          },
          "metadata": {},
          "execution_count": 16
        }
      ]
    },
    {
      "cell_type": "code",
      "source": [
        "P=int(input(\"ENTER THE PRINCIPLE AMT \"))"
      ],
      "metadata": {
        "colab": {
          "base_uri": "https://localhost:8080/",
          "height": 0
        },
        "id": "ecvKkMg1UbtN",
        "outputId": "6252a587-13e6-4ba0-acc4-eafd549fe6da"
      },
      "execution_count": 20,
      "outputs": [
        {
          "name": "stdout",
          "output_type": "stream",
          "text": [
            "ENTER THE PRINCIPLE AMT 12000\n"
          ]
        }
      ]
    },
    {
      "cell_type": "code",
      "source": [
        "N=int(input(\"ENTER THE NO OF YEARS \"))"
      ],
      "metadata": {
        "colab": {
          "base_uri": "https://localhost:8080/",
          "height": 0
        },
        "id": "mRLxHFkJUn6L",
        "outputId": "a06c31f8-c7c2-4baa-fd09-47d049e79b4c"
      },
      "execution_count": 21,
      "outputs": [
        {
          "name": "stdout",
          "output_type": "stream",
          "text": [
            "ENTER THE NO OF YEARS 12\n"
          ]
        }
      ]
    },
    {
      "cell_type": "code",
      "source": [
        "R=int(input(\"ENTER THE RATE \"))"
      ],
      "metadata": {
        "colab": {
          "base_uri": "https://localhost:8080/",
          "height": 0
        },
        "id": "Z8ydWhO9U6xC",
        "outputId": "82145d5d-e9df-4af0-e6e9-0ffc57b815a5"
      },
      "execution_count": 22,
      "outputs": [
        {
          "name": "stdout",
          "output_type": "stream",
          "text": [
            "ENTER THE RATE 5\n"
          ]
        }
      ]
    },
    {
      "cell_type": "code",
      "source": [
        "I=P*N*R/100"
      ],
      "metadata": {
        "id": "VmkhCKmWVEf6"
      },
      "execution_count": 23,
      "outputs": []
    },
    {
      "cell_type": "code",
      "source": [
        "print(I)"
      ],
      "metadata": {
        "colab": {
          "base_uri": "https://localhost:8080/",
          "height": 0
        },
        "id": "w8oLoos5Vwjf",
        "outputId": "bdebdc55-79fd-49d2-f5b3-47da63a1d777"
      },
      "execution_count": 26,
      "outputs": [
        {
          "output_type": "stream",
          "name": "stdout",
          "text": [
            "7200.0\n"
          ]
        }
      ]
    },
    {
      "cell_type": "code",
      "source": [
        "X=int(input(\"ENTER YOUR MARK \"))"
      ],
      "metadata": {
        "colab": {
          "base_uri": "https://localhost:8080/",
          "height": 0
        },
        "id": "MXfVUds_YNn-",
        "outputId": "b9932587-2422-4a3f-ec3c-2d8a21c79ca4"
      },
      "execution_count": 27,
      "outputs": [
        {
          "name": "stdout",
          "output_type": "stream",
          "text": [
            "ENTER YOUR MARK 80\n"
          ]
        }
      ]
    },
    {
      "cell_type": "code",
      "source": [
        "if X>50:\n",
        "  print('pass')\n",
        "else:\n",
        "  print('fail')"
      ],
      "metadata": {
        "colab": {
          "base_uri": "https://localhost:8080/",
          "height": 0
        },
        "id": "H1ArDoIhYfrT",
        "outputId": "e696b214-2691-4070-d4bd-aa22f1247b19"
      },
      "execution_count": 32,
      "outputs": [
        {
          "output_type": "stream",
          "name": "stdout",
          "text": [
            "pass\n"
          ]
        }
      ]
    },
    {
      "cell_type": "code",
      "source": [
        "S=int(input(\"ENTER YOUR SALARY : \"))\n",
        "if S>250000:\n",
        "  print(\"YOUR TAXABLE\")\n",
        "else:\n",
        "  print(\"YOUR NOT TAXABLE\")"
      ],
      "metadata": {
        "colab": {
          "base_uri": "https://localhost:8080/"
        },
        "id": "oLoM1_xCYu00",
        "outputId": "d442a84e-c7d4-405f-efd1-9f9936daf57b"
      },
      "execution_count": 42,
      "outputs": [
        {
          "output_type": "stream",
          "name": "stdout",
          "text": [
            "ENTER YOUR SALARY : 800000\n",
            "YOUR TAXABLE\n"
          ]
        }
      ]
    },
    {
      "cell_type": "code",
      "source": [
        "S=int(input(\"ENTER YOUR SALARY : \"))\n",
        "T=S*10/100\n",
        "if S>250000:\n",
        "  print(\"YOUR TAXABLE\")\n",
        "  print(T)\n",
        "else:\n",
        "  print(\"NOT TAXABLE\")"
      ],
      "metadata": {
        "colab": {
          "base_uri": "https://localhost:8080/"
        },
        "id": "Cgk-o0ajbE7Z",
        "outputId": "2bd1fba0-5b7c-4096-b8b2-8b5cc4eaa8ae"
      },
      "execution_count": 43,
      "outputs": [
        {
          "output_type": "stream",
          "name": "stdout",
          "text": [
            "ENTER YOUR SALARY : 800000\n",
            "YOUR TAXABLE\n",
            "80000.0\n"
          ]
        }
      ]
    },
    {
      "cell_type": "code",
      "source": [
        "S=int(input(\"ENTER YOUR SALARY : \"))\n",
        "if S>250000:\n",
        "  print(\"YOUR TAXABLE\")\n",
        "  T=(S-250000)*10/100\n",
        "  print(T)\n",
        "else:\n",
        "  print(\"NOT TAXABLE\")"
      ],
      "metadata": {
        "colab": {
          "base_uri": "https://localhost:8080/"
        },
        "outputId": "f0620b13-a0e6-4949-beef-6f0021b4b306",
        "id": "FgseJlYpf6Vy"
      },
      "execution_count": 41,
      "outputs": [
        {
          "output_type": "stream",
          "name": "stdout",
          "text": [
            "ENTER YOUR SALARY : 800000\n",
            "YOUR TAXABLE\n",
            "55000.0\n"
          ]
        }
      ]
    },
    {
      "cell_type": "code",
      "source": [
        ""
      ],
      "metadata": {
        "id": "cZQe0tsKfXTt"
      },
      "execution_count": null,
      "outputs": []
    },
    {
      "cell_type": "code",
      "source": [
        "S=int(input(\"ENTER YOUR SALARY : \"))\n",
        "if S>250000 and S<500000:\n",
        "  print(\"YOUR TAXABLE\")\n",
        "  T=(S-250000)*10/100\n",
        "  print(T)\n",
        "if S>500000:\n",
        "  print(\"YOUR TAXABLE\")\n",
        "  T=(S-250000)*20/100\n",
        "  print(T)\n",
        "else:\n",
        "  print(\"NOT TAXABLE\")"
      ],
      "metadata": {
        "colab": {
          "base_uri": "https://localhost:8080/"
        },
        "outputId": "b56bfa75-d6cd-4b0c-d583-0195b6867648",
        "id": "NM3cjZLBkBa-"
      },
      "execution_count": 44,
      "outputs": [
        {
          "output_type": "stream",
          "name": "stdout",
          "text": [
            "ENTER YOUR SALARY : 800000\n",
            "YOUR TAXABLE\n",
            "110000.0\n"
          ]
        }
      ]
    },
    {
      "cell_type": "code",
      "source": [
        ""
      ],
      "metadata": {
        "id": "V2nJ5EZ2lzxU"
      },
      "execution_count": null,
      "outputs": []
    }
  ]
}